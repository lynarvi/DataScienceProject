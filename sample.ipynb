{
 "cells": [
  {
   "cell_type": "code",
   "execution_count": 1,
   "outputs": [],
   "source": [
    "import pandas as pd"
   ],
   "metadata": {
    "collapsed": false,
    "pycharm": {
     "name": "#%%\n"
    }
   }
  },
  {
   "cell_type": "code",
   "execution_count": 2,
   "outputs": [],
   "source": [
    "from IPython.core.display import display\n",
    "\n",
    "precip = pd.read_csv(\"D:/precipitation.csv\")"
   ],
   "metadata": {
    "collapsed": false,
    "pycharm": {
     "name": "#%%\n"
    }
   }
  },
  {
   "cell_type": "code",
   "execution_count": 3,
   "outputs": [
    {
     "name": "stdout",
     "output_type": "stream",
     "text": [
      "   months  precip_2002  precip_2013 seasons\n",
      "0     Jan         1.07         0.27  Winter\n",
      "1     Feb         0.44         1.13  Winter\n",
      "2     Mar         1.50         1.72  Spring\n",
      "3     Apr         0.20         4.14  Spring\n",
      "4     May         3.20         2.66  Spring\n",
      "5    June         1.18         0.61  Summer\n",
      "6    July         0.09         1.03  Summer\n",
      "7     Aug         1.44         1.40  Summer\n",
      "8    Sept         1.52        18.16    Fall\n",
      "9     Oct         2.44         2.24    Fall\n",
      "10    Nov         0.78         0.29    Fall\n",
      "11    Dec         0.02         0.50  Winter\n"
     ]
    }
   ],
   "source": [
    "print(precip)"
   ],
   "metadata": {
    "collapsed": false,
    "pycharm": {
     "name": "#%%\n"
    }
   }
  },
  {
   "cell_type": "code",
   "execution_count": 4,
   "outputs": [
    {
     "data": {
      "text/plain": "       precip_2002  precip_2013\ncount    12.000000    12.000000\nmean      1.156667     2.845833\nstd       0.961101     4.953130\nmin       0.020000     0.270000\n25%       0.380000     0.582500\n50%       1.125000     1.265000\n75%       1.505000     2.345000\nmax       3.200000    18.160000",
      "text/html": "<div>\n<style scoped>\n    .dataframe tbody tr th:only-of-type {\n        vertical-align: middle;\n    }\n\n    .dataframe tbody tr th {\n        vertical-align: top;\n    }\n\n    .dataframe thead th {\n        text-align: right;\n    }\n</style>\n<table border=\"1\" class=\"dataframe\">\n  <thead>\n    <tr style=\"text-align: right;\">\n      <th></th>\n      <th>precip_2002</th>\n      <th>precip_2013</th>\n    </tr>\n  </thead>\n  <tbody>\n    <tr>\n      <th>count</th>\n      <td>12.000000</td>\n      <td>12.000000</td>\n    </tr>\n    <tr>\n      <th>mean</th>\n      <td>1.156667</td>\n      <td>2.845833</td>\n    </tr>\n    <tr>\n      <th>std</th>\n      <td>0.961101</td>\n      <td>4.953130</td>\n    </tr>\n    <tr>\n      <th>min</th>\n      <td>0.020000</td>\n      <td>0.270000</td>\n    </tr>\n    <tr>\n      <th>25%</th>\n      <td>0.380000</td>\n      <td>0.582500</td>\n    </tr>\n    <tr>\n      <th>50%</th>\n      <td>1.125000</td>\n      <td>1.265000</td>\n    </tr>\n    <tr>\n      <th>75%</th>\n      <td>1.505000</td>\n      <td>2.345000</td>\n    </tr>\n    <tr>\n      <th>max</th>\n      <td>3.200000</td>\n      <td>18.160000</td>\n    </tr>\n  </tbody>\n</table>\n</div>"
     },
     "execution_count": 4,
     "metadata": {},
     "output_type": "execute_result"
    }
   ],
   "source": [
    "precip.describe()"
   ],
   "metadata": {
    "collapsed": false,
    "pycharm": {
     "name": "#%%\n"
    }
   }
  },
  {
   "cell_type": "code",
   "execution_count": null,
   "outputs": [],
   "source": [],
   "metadata": {
    "collapsed": false,
    "pycharm": {
     "name": "#%%\n"
    }
   }
  },
  {
   "cell_type": "code",
   "execution_count": 5,
   "outputs": [],
   "source": [
    "import numpy as np"
   ],
   "metadata": {
    "collapsed": false,
    "pycharm": {
     "name": "#%%\n"
    }
   }
  },
  {
   "cell_type": "code",
   "execution_count": 6,
   "outputs": [
    {
     "name": "stdout",
     "output_type": "stream",
     "text": [
      "3.2\n",
      "18.16\n"
     ]
    }
   ],
   "source": [
    "print(precip.iloc[4][1])\n",
    "print(precip.iloc[8][2])"
   ],
   "metadata": {
    "collapsed": false,
    "pycharm": {
     "name": "#%%\n"
    }
   }
  },
  {
   "cell_type": "code",
   "execution_count": 11,
   "outputs": [
    {
     "name": "stdout",
     "output_type": "stream",
     "text": [
      "3.2\n",
      "18.16\n"
     ]
    }
   ],
   "source": [
    "print(max(precip[\"precip_2002\"]))\n",
    "print(max(precip[\"precip_2013\"]))"
   ],
   "metadata": {
    "collapsed": false,
    "pycharm": {
     "name": "#%%\n"
    }
   }
  },
  {
   "cell_type": "code",
   "execution_count": 20,
   "outputs": [
    {
     "name": "stdout",
     "output_type": "stream",
     "text": [
      "  months  precip_2002  precip_2013 seasons\n",
      "8   Sept         1.52        18.16    Fall\n"
     ]
    }
   ],
   "source": [
    "\n",
    "max2013 = precip[precip[\"precip_2013\"] == 18.16]\n",
    "print(max2013)\n"
   ],
   "metadata": {
    "collapsed": false,
    "pycharm": {
     "name": "#%%\n"
    }
   }
  },
  {
   "cell_type": "code",
   "execution_count": 16,
   "outputs": [
    {
     "name": "stdout",
     "output_type": "stream",
     "text": [
      "Precipitation value for the maximum month in 2013\n"
     ]
    },
    {
     "data": {
      "text/plain": "months          Sept\nprecip_2002     1.52\nprecip_2013    18.16\nseasons         Fall\nName: 8, dtype: object"
     },
     "metadata": {},
     "output_type": "display_data"
    }
   ],
   "source": [
    "print(\"Precipitation value for the maximum month in 2013\")\n",
    "display(precip.iloc[8])\n"
   ],
   "metadata": {
    "collapsed": false,
    "pycharm": {
     "name": "#%%\n"
    }
   }
  },
  {
   "cell_type": "code",
   "execution_count": 12,
   "outputs": [],
   "source": [
    "import matplotlib.pyplot as plt"
   ],
   "metadata": {
    "collapsed": false,
    "pycharm": {
     "name": "#%%\n"
    }
   }
  },
  {
   "cell_type": "code",
   "execution_count": 66,
   "outputs": [
    {
     "name": "stdout",
     "output_type": "stream",
     "text": [
      "Scatter plot\n"
     ]
    },
    {
     "data": {
      "text/plain": "<Figure size 432x288 with 1 Axes>",
      "image/png": "[encoded data removed]"
     },
     "metadata": {
      "needs_background": "dark"
     },
     "output_type": "display_data"
    }
   ],
   "source": [
    "print(\"Scatter plot\")\n",
    "s = precip.plot(x = \"months\", y = \"precip_2013\", kind = \"scatter\", color = \"darkgreen\")\n",
    "s.set_title(\"Average Monthly Precipitation in 2013 for Boulder, Co.\", color = \"white\")\n",
    "plt.xlabel(\"Month\")\n",
    "plt.ylabel(\"Precipitation Value\")\n",
    "s.tick_params(axis = \"x\", colors = \"white\")\n",
    "s.tick_params(axis = \"y\", colors = \"white\")\n",
    "s.xaxis.label.set_color(\"white\")\n",
    "s.yaxis.label.set_color(\"white\")\n",
    "plt.show()\n"
   ],
   "metadata": {
    "collapsed": false,
    "pycharm": {
     "name": "#%%\n"
    }
   }
  },
  {
   "cell_type": "code",
   "execution_count": 22,
   "outputs": [
    {
     "name": "stdout",
     "output_type": "stream",
     "text": [
      "Line graph\n"
     ]
    },
    {
     "data": {
      "text/plain": "<Figure size 432x288 with 1 Axes>",
      "image/png": "[encoded data removed]"
     },
     "metadata": {
      "needs_background": "dark"
     },
     "output_type": "display_data"
    }
   ],
   "source": [
    "print(\"Line graph\")\n",
    "l = precip.plot(x = \"months\", y = \"precip_2013\", kind = \"line\", color = \"purple\")\n",
    "l.set_title(\"Average Monthly Precipitation in 2013 for Boulder, Co.\", color = \"white\")\n",
    "#plt.title(\"Average Monthly Precipitation in 2013 for Boulder, Co.\")\n",
    "plt.xlabel(\"Month\")\n",
    "plt.ylabel(\"Precipitation Value\")\n",
    "l.tick_params(axis = \"x\", colors = \"white\")\n",
    "l.tick_params(axis = \"y\", colors = \"white\")\n",
    "l.xaxis.label.set_color(\"white\")\n",
    "l.yaxis.label.set_color(\"white\")\n",
    "plt.show()"
   ],
   "metadata": {
    "collapsed": false,
    "pycharm": {
     "name": "#%%\n"
    }
   }
  },
  {
   "cell_type": "code",
   "execution_count": 21,
   "outputs": [
    {
     "name": "stdout",
     "output_type": "stream",
     "text": [
      "Bar chart\n"
     ]
    },
    {
     "data": {
      "text/plain": "<Figure size 432x288 with 1 Axes>",
      "image/png": "[encoded data removed]"
     },
     "metadata": {
      "needs_background": "dark"
     },
     "output_type": "display_data"
    }
   ],
   "source": [
    "print(\"Bar chart\")\n",
    "b = precip.plot(x = \"months\", y = \"precip_2013\", kind = \"bar\", color = \"teal\")\n",
    "b.set_title(\"Average Monthly Precipitation in 2013 for Boulder, Co.\", color = \"white\")\n",
    "#plt.title(\"Average Monthly Precipitation in 2013 for Boulder, Co.\")\n",
    "plt.xlabel(\"Month\")\n",
    "plt.ylabel(\"Precipitation Value\")\n",
    "b.tick_params(axis = \"x\", colors = \"white\")\n",
    "b.tick_params(axis = \"y\", colors = \"white\")\n",
    "b.xaxis.label.set_color(\"white\")\n",
    "b.yaxis.label.set_color(\"white\")\n",
    "plt.show()"
   ],
   "metadata": {
    "collapsed": false,
    "pycharm": {
     "name": "#%%\n"
    }
   }
  },
  {
   "cell_type": "code",
   "execution_count": 25,
   "outputs": [
    {
     "data": {
      "text/plain": "23.2"
     },
     "execution_count": 25,
     "metadata": {},
     "output_type": "execute_result"
    }
   ],
   "source": [
    "total = 10.8 + 12.2 + 0.2\n",
    "total"
   ],
   "metadata": {
    "collapsed": false,
    "pycharm": {
     "name": "#%%\n"
    }
   }
  },
  {
   "cell_type": "code",
   "execution_count": 26,
   "outputs": [
    {
     "data": {
      "text/plain": "-3"
     },
     "execution_count": 26,
     "metadata": {},
     "output_type": "execute_result"
    }
   ],
   "source": [
    "3 * (4-5)"
   ],
   "metadata": {
    "collapsed": false,
    "pycharm": {
     "name": "#%%\n"
    }
   }
  },
  {
   "cell_type": "code",
   "execution_count": 27,
   "outputs": [
    {
     "data": {
      "text/plain": "7"
     },
     "execution_count": 27,
     "metadata": {},
     "output_type": "execute_result"
    }
   ],
   "source": [
    "3 * 4-5"
   ],
   "metadata": {
    "collapsed": false,
    "pycharm": {
     "name": "#%%\n"
    }
   }
  },
  {
   "cell_type": "code",
   "execution_count": 29,
   "outputs": [
    {
     "data": {
      "text/plain": "262144"
     },
     "execution_count": 29,
     "metadata": {},
     "output_type": "execute_result"
    }
   ],
   "source": [
    "4 ** 3 ** 2"
   ],
   "metadata": {
    "collapsed": false,
    "pycharm": {
     "name": "#%%\n"
    }
   }
  },
  {
   "cell_type": "code",
   "execution_count": 30,
   "outputs": [
    {
     "data": {
      "text/plain": "4096"
     },
     "execution_count": 30,
     "metadata": {},
     "output_type": "execute_result"
    }
   ],
   "source": [
    "(4 ** 3) ** 2"
   ],
   "metadata": {
    "collapsed": false,
    "pycharm": {
     "name": "#%%\n"
    }
   }
  },
  {
   "cell_type": "code",
   "execution_count": 31,
   "outputs": [
    {
     "data": {
      "text/plain": "262144"
     },
     "execution_count": 31,
     "metadata": {},
     "output_type": "execute_result"
    }
   ],
   "source": [
    "4 ** (3 ** 2)"
   ],
   "metadata": {
    "collapsed": false,
    "pycharm": {
     "name": "#%%\n"
    }
   }
  },
  {
   "cell_type": "code",
   "execution_count": 32,
   "outputs": [
    {
     "name": "stdout",
     "output_type": "stream",
     "text": [
      "int(5.2) truncates 5.2 to 5\n"
     ]
    }
   ],
   "source": [
    "print('int(5.2)','truncates 5.2 to', int(5.2))"
   ],
   "metadata": {
    "collapsed": false,
    "pycharm": {
     "name": "#%%\n"
    }
   }
  },
  {
   "cell_type": "code",
   "execution_count": 34,
   "outputs": [
    {
     "ename": "SyntaxError",
     "evalue": "cannot assign to literal (<ipython-input-34-f29bb33b7e97>, line 1)",
     "output_type": "error",
     "traceback": [
      "\u001B[1;36m  File \u001B[1;32m\"<ipython-input-34-f29bb33b7e97>\"\u001B[1;36m, line \u001B[1;32m1\u001B[0m\n\u001B[1;33m    11 =get_ipython().getoutput(' 22')\u001B[0m\n\u001B[1;37m    ^\u001B[0m\n\u001B[1;31mSyntaxError\u001B[0m\u001B[1;31m:\u001B[0m cannot assign to literal\n"
     ]
    }
   ],
   "source": [
    "11 =! 22"
   ],
   "metadata": {
    "collapsed": false,
    "pycharm": {
     "name": "#%%\n"
    }
   }
  },
  {
   "cell_type": "code",
   "execution_count": 36,
   "outputs": [],
   "source": [
    "num1 = 5\n",
    "num2 = 9"
   ],
   "metadata": {
    "collapsed": false,
    "pycharm": {
     "name": "#%%\n"
    }
   }
  },
  {
   "cell_type": "code",
   "execution_count": 17,
   "outputs": [
    {
     "name": "stdout",
     "output_type": "stream",
     "text": [
      "False True True False True False\n"
     ]
    }
   ],
   "source": [
    "print(5 == 9, 5 != 9, 5 < 9, 5 > 9, 5 <= 9, 5>= 9)"
   ],
   "metadata": {
    "collapsed": false,
    "pycharm": {
     "name": "#%%\n"
    }
   }
  },
  {
   "cell_type": "code",
   "execution_count": 18,
   "outputs": [
    {
     "name": "stdout",
     "output_type": "stream",
     "text": [
      "Maximum value is: 95\n",
      "Minimum value is: 47\n",
      "Range is: 48\n"
     ]
    }
   ],
   "source": [
    "set = 47,95,88,73,88,84\n",
    "print(\"Maximum value is:\",max(set))\n",
    "print(\"Minimum value is:\",min(set))\n",
    "print(\"Range is:\", max(set) - min(set))"
   ],
   "metadata": {
    "collapsed": false,
    "pycharm": {
     "name": "#%%\n"
    }
   }
  },
  {
   "cell_type": "code",
   "execution_count": 62,
   "outputs": [
    {
     "name": "stdout",
     "output_type": "stream",
     "text": [
      "[ 2  4  6  8 10 12 14 16 18 20 22 24 26 28 30 32 34 36 38 40]\n"
     ]
    }
   ],
   "source": [
    "numbers = np.arange(start=2, stop=42, step=2)\n",
    "print(numbers)"
   ],
   "metadata": {
    "collapsed": false,
    "pycharm": {
     "name": "#%%\n"
    }
   }
  },
  {
   "cell_type": "code",
   "execution_count": 65,
   "outputs": [
    {
     "data": {
      "text/plain": "array([[ 2,  4,  6,  8, 10],\n       [12, 14, 16, 18, 20],\n       [22, 24, 26, 28, 30],\n       [32, 34, 36, 38, 40]])"
     },
     "execution_count": 65,
     "metadata": {},
     "output_type": "execute_result"
    }
   ],
   "source": [
    "numbers.reshape((4,5))\n"
   ],
   "metadata": {
    "collapsed": false,
    "pycharm": {
     "name": "#%%\n"
    }
   }
  },
  {
   "cell_type": "code",
   "execution_count": 2,
   "outputs": [
    {
     "data": {
      "text/plain": "'a'"
     },
     "execution_count": 2,
     "metadata": {},
     "output_type": "execute_result"
    }
   ],
   "source": [
    "value = input(\"enter a letter: \")\n",
    "value"
   ],
   "metadata": {
    "collapsed": false,
    "pycharm": {
     "name": "#%%\n"
    }
   }
  },
  {
   "cell_type": "code",
   "execution_count": 19,
   "outputs": [
    {
     "name": "stdout",
     "output_type": "stream",
     "text": [
      "  months  precip_2002  precip_2013 seasons\n",
      "4    May          3.2         2.66  Spring\n"
     ]
    }
   ],
   "source": [
    "max2002 = precip[precip[\"precip_2002\"] == 3.2]\n",
    "print(max2002)"
   ],
   "metadata": {
    "collapsed": false,
    "pycharm": {
     "name": "#%%\n"
    }
   }
  }
 ],
 "metadata": {
  "kernelspec": {
   "display_name": "Python 3",
   "language": "python",
   "name": "python3"
  },
  "language_info": {
   "codemirror_mode": {
    "name": "ipython",
    "version": 2
   },
   "file_extension": ".py",
   "mimetype": "text/x-python",
   "name": "python",
   "nbconvert_exporter": "python",
   "pygments_lexer": "ipython2",
   "version": "2.7.6"
  }
 },
 "nbformat": 4,
 "nbformat_minor": 0
}